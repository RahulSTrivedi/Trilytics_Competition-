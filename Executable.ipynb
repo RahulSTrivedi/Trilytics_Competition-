{
 "cells": [
  {
   "cell_type": "code",
   "execution_count": 1,
   "metadata": {
    "id": "Q71e3peHkOKx"
   },
   "outputs": [],
   "source": [
    "import pandas as pd"
   ]
  },
  {
   "cell_type": "code",
   "execution_count": null,
   "metadata": {
    "id": "QiLB9SjqpfSX"
   },
   "outputs": [],
   "source": []
  },
  {
   "cell_type": "code",
   "execution_count": 2,
   "metadata": {
    "id": "l_gvi7DCkYOX"
   },
   "outputs": [],
   "source": [
    "# Load the datasets\n",
    "stores_data = pd.read_csv(\"C:\\\\Users\\\\JioInstitute\\\\Downloads\\\\stores_data_updated.csv\")\n",
    "sales_data = pd.read_csv(\"C:\\\\Users\\\\JioInstitute\\\\Downloads\\\\sales.csv\")\n",
    "promotions_data = pd.read_csv(\"C:\\\\Users\\\\JioInstitute\\\\Downloads\\\\promotions.csv\")"
   ]
  },
  {
   "cell_type": "code",
   "execution_count": 3,
   "metadata": {
    "id": "8uDoinWvkYSX"
   },
   "outputs": [],
   "source": [
    "# Convert date columns to datetime\n",
    "stores_data['OPEN_DATE'] = pd.to_datetime(stores_data['OPEN_DATE'], errors='coerce')\n",
    "stores_data['CLOSE_DATE'] = pd.to_datetime(stores_data['CLOSE_DATE'], errors='coerce')"
   ]
  },
  {
   "cell_type": "code",
   "execution_count": 4,
   "metadata": {
    "id": "OqIiXj9VkYU8"
   },
   "outputs": [],
   "source": [
    "# Replace 'Dec 31, 1999' placeholder with NaT (Not a Time)\n",
    "placeholder_date = pd.Timestamp('1999-12-31')\n",
    "stores_data.loc[stores_data['OPEN_DATE'] == placeholder_date, 'OPEN_DATE'] = pd.NaT\n",
    "stores_data.loc[stores_data['CLOSE_DATE'] == placeholder_date, 'CLOSE_DATE'] = pd.NaT"
   ]
  },
  {
   "cell_type": "code",
   "execution_count": 5,
   "metadata": {
    "id": "-nf1bUsukYX4"
   },
   "outputs": [],
   "source": [
    "# Drop rows where OPEN_DATE is NaT (stores not yet open)\n",
    "stores_data_clean = stores_data.dropna(subset=['OPEN_DATE'])"
   ]
  },
  {
   "cell_type": "code",
   "execution_count": 6,
   "metadata": {
    "colab": {
     "base_uri": "https://localhost:8080/"
    },
    "id": "Qo5_uvNJkYag",
    "outputId": "63c69076-54e4-43db-9eaa-ed1a616cd058"
   },
   "outputs": [
    {
     "name": "stdout",
     "output_type": "stream",
     "text": [
      "Cleaned Stores Data:\n",
      "   STORE_KEY  STORE_NUMBER   ROW_EFFECTIVE_TIMESTAMP  \\\n",
      "0         14          1704  2024-01-30T02:06:54.251Z   \n",
      "1        824             1  2024-01-30T02:06:54.251Z   \n",
      "2        862            39  2024-01-30T02:06:54.251Z   \n",
      "3        880            57  2024-01-30T02:06:54.251Z   \n",
      "4         21          1712  2024-01-30T02:06:54.251Z   \n",
      "\n",
      "   ROW_EXPIRATION_TIMESTAMP STORE_NAME STORE_TYPE_CODE STORE_TYPE_NAME  \\\n",
      "0  2024-01-30T02:06:54.251Z     IL1704            Fran       Franchise   \n",
      "1  2024-01-30T02:06:54.251Z        TX1            Fran       Franchise   \n",
      "2  2024-01-30T02:06:54.251Z       IL39            Fran       Franchise   \n",
      "3  2024-01-30T02:06:54.251Z       IL57            Fran       Franchise   \n",
      "4  2024-01-30T02:06:54.251Z     OH1712            Fran       Franchise   \n",
      "\n",
      "   OPEN_DATE CLOSE_DATE         CITY_NAME  ... GLOBAL_REGION_NAME  \\\n",
      "0 2020-06-20 2100-12-12           CHICAGO  ...           Domestic   \n",
      "1 1998-04-14 2100-12-12  HIGHLAND VILLAGE  ...           Domestic   \n",
      "2 2001-11-28 2100-12-12           DECATUR  ...           Domestic   \n",
      "3 2002-05-25 2100-12-12      ELMWOOD PARK  ...           Domestic   \n",
      "4 2020-04-30 2100-12-12        Springdale  ...           Domestic   \n",
      "\n",
      "  GLOBAL_REGION_STORE_TYPE_NAME                 AREA_REGION  \\\n",
      "0             DomesticFranchise                     CHICAGO   \n",
      "1             DomesticFranchise            DALLAS-FT. WORTH   \n",
      "2             DomesticFranchise  CHAMPAIGN&SPRNGFLD-DECATUR   \n",
      "3             DomesticFranchise                     CHICAGO   \n",
      "4             DomesticFranchise                  CINCINNATI   \n",
      "\n",
      "   DISPATCH_GO_LIVE_DATE DOOR_DASH_GO_LIVE_DATE  \\\n",
      "0              6/20/2020              6/20/2020   \n",
      "1              4/17/2019              4/17/2019   \n",
      "2              8/28/2019              8/28/2019   \n",
      "3             10/30/2017             10/30/2017   \n",
      "4              4/30/2020              4/30/2020   \n",
      "\n",
      "   DOOR_DASH_MARKUP_GO_LIVE_DATE STORE_CONCEPT_NAME  UBER_EATS_MARKUP_DATE  \\\n",
      "0                      9/27/2020           Original             05-05-2021   \n",
      "1                      9/27/2020           Original              7/20/2022   \n",
      "2                      9/27/2020           Original              7/20/2022   \n",
      "3                      9/27/2020           Original              5/25/2002   \n",
      "4                      9/27/2020           Original              7/20/2022   \n",
      "\n",
      "       EDW_CREATE_TIMESTAMP      EDW_MODIFY_TIMESTAMP  \n",
      "0  2023-06-13T20:38:55.210Z  2024-01-30T02:06:54.251Z  \n",
      "1  2023-06-13T20:38:55.210Z  2024-01-30T02:06:54.251Z  \n",
      "2  2023-06-13T20:38:55.210Z  2024-01-30T02:06:54.251Z  \n",
      "3  2023-06-13T20:38:55.210Z  2024-01-30T02:06:54.251Z  \n",
      "4  2023-06-13T20:38:55.210Z  2024-01-30T02:06:54.251Z  \n",
      "\n",
      "[5 rows x 34 columns]\n"
     ]
    }
   ],
   "source": [
    "# Display cleaned stores data\n",
    "print(\"Cleaned Stores Data:\")\n",
    "print(stores_data_clean.head())"
   ]
  },
  {
   "cell_type": "code",
   "execution_count": 7,
   "metadata": {
    "id": "EMvVe7u1kYdJ"
   },
   "outputs": [],
   "source": [
    "# Merge sales data with cleaned stores data on STORE_NUMBER\n",
    "sales_stores_merged = pd.merge(sales_data, stores_data_clean[['STORE_NUMBER']], on='STORE_NUMBER', how='inner')"
   ]
  },
  {
   "cell_type": "code",
   "execution_count": 8,
   "metadata": {
    "colab": {
     "base_uri": "https://localhost:8080/"
    },
    "id": "oD3RSl2ikYfl",
    "outputId": "8d803660-f0be-4f1f-b0e8-ae0775061617"
   },
   "outputs": [
    {
     "name": "stdout",
     "output_type": "stream",
     "text": [
      "Filtered Sales Data:\n",
      "   STORE_KEY  STORE_NUMBER   OPEN_DATE  BUSINESS_DATE_KEY BUSINESS_DATE  \\\n",
      "0       2104          1323  11/21/2017           20221008     10/8/2022   \n",
      "1       2104          1323  11/21/2017           20221210    12/10/2022   \n",
      "2       2104          1323  11/21/2017           20230106      1/6/2023   \n",
      "3       2104          1323  11/21/2017           20220904      9/4/2022   \n",
      "4       2104          1323  11/21/2017           20230322     3/22/2023   \n",
      "\n",
      "   TEMP_CLOSE_INDICATOR  PROJECTION_INCLUDED_INDICATOR  \\\n",
      "0                   0.0                              0   \n",
      "1                   0.0                              0   \n",
      "2                   0.0                              0   \n",
      "3                   0.0                              0   \n",
      "4                   0.0                              0   \n",
      "\n",
      "   BUSINESS_DATE_FISCAL_DAY_OF_YEAR  BUSINESS_DATE_FISCAL_YEAR  \\\n",
      "0                               287                       2022   \n",
      "1                               350                       2022   \n",
      "2                                 6                       2023   \n",
      "3                               253                       2022   \n",
      "4                                81                       2023   \n",
      "\n",
      "   COMP_BUSINESS_DATE_FISCAL_YEAR  COMPARABLE_INDICATOR  \\\n",
      "0                            2021                     1   \n",
      "1                            2021                     1   \n",
      "2                            2022                     1   \n",
      "3                            2021                     1   \n",
      "4                            2022                     1   \n",
      "\n",
      "   TRANSACTION_FINAL_COUNT  NET_SALES_FINAL_USD_AMOUNT  \\\n",
      "0                      249                     5785.30   \n",
      "1                      261                     5839.23   \n",
      "2                      307                     7270.49   \n",
      "3                      231                     5107.95   \n",
      "4                      226                     4943.48   \n",
      "\n",
      "   PY_TRANSACTION_FINAL_COUNT  PY_NET_SALES_FINAL_USD_AMOUNT  \n",
      "0                         166                        4407.43  \n",
      "1                         170                        3993.77  \n",
      "2                         231                        4620.04  \n",
      "3                         154                        3265.14  \n",
      "4                         143                        2960.47  \n"
     ]
    }
   ],
   "source": [
    "# Display merged sales data\n",
    "print(\"Filtered Sales Data:\")\n",
    "print(sales_stores_merged.head())"
   ]
  },
  {
   "cell_type": "code",
   "execution_count": 9,
   "metadata": {
    "colab": {
     "base_uri": "https://localhost:8080/"
    },
    "id": "6PLY-3LUkqk4",
    "outputId": "fa1bd2d0-cc50-4f4d-d872-6697846a6e50"
   },
   "outputs": [
    {
     "data": {
      "text/plain": [
       "(364204, 15)"
      ]
     },
     "execution_count": 9,
     "metadata": {},
     "output_type": "execute_result"
    }
   ],
   "source": [
    "sales_stores_merged.shape"
   ]
  },
  {
   "cell_type": "code",
   "execution_count": 10,
   "metadata": {
    "id": "JOiB4Qagkqhs"
   },
   "outputs": [],
   "source": [
    "# Convert date columns to datetime\n",
    "stores_data['OPEN_DATE'] = pd.to_datetime(stores_data['OPEN_DATE'], errors='coerce')\n",
    "stores_data['CLOSE_DATE'] = pd.to_datetime(stores_data['CLOSE_DATE'], errors='coerce')\n",
    "sales_data['BUSINESS_DATE'] = pd.to_datetime(sales_data['BUSINESS_DATE'], errors='coerce')\n",
    "promotions_data['PROMOTION_START_DATE'] = pd.to_datetime(promotions_data['PROMOTION_START_DATE'], errors='coerce')\n",
    "promotions_data['PROMOTION_END_DATE'] = pd.to_datetime(promotions_data['PROMOTION_END_DATE'], errors='coerce')"
   ]
  },
  {
   "cell_type": "code",
   "execution_count": 11,
   "metadata": {
    "id": "5p8qMWiakqfL"
   },
   "outputs": [],
   "source": [
    "#eplace 'Dec 31, 1999' placeholder with NaT (Not a Time)\n",
    "placeholder_date = pd.Timestamp('1999-12-31')\n",
    "stores_data.loc[stores_data['OPEN_DATE'] == placeholder_date, 'OPEN_DATE'] = pd.NaT\n",
    "stores_data.loc[stores_data['CLOSE_DATE'] == placeholder_date, 'CLOSE_DATE'] = pd.NaT"
   ]
  },
  {
   "cell_type": "code",
   "execution_count": 12,
   "metadata": {
    "id": "5Bly36tkkqcj"
   },
   "outputs": [],
   "source": [
    "# Drop rows where OPEN_DATE is NaT (stores not yet open)\n",
    "stores_data_clean = stores_data.dropna(subset=['OPEN_DATE'])"
   ]
  },
  {
   "cell_type": "code",
   "execution_count": 13,
   "metadata": {
    "id": "ml0KzO57kqZr"
   },
   "outputs": [],
   "source": [
    "# Merge sales data with cleaned stores data on STORE_NUMBER\n",
    "sales_stores_merged = pd.merge(sales_data, stores_data_clean[['STORE_NUMBER']], on='STORE_NUMBER', how='inner')"
   ]
  },
  {
   "cell_type": "code",
   "execution_count": 14,
   "metadata": {
    "colab": {
     "base_uri": "https://localhost:8080/"
    },
    "id": "3i9MFzZIkqXD",
    "outputId": "0258f190-a4b0-47be-f76d-7640862c1cdb"
   },
   "outputs": [
    {
     "data": {
      "text/plain": [
       "(364204, 15)"
      ]
     },
     "execution_count": 14,
     "metadata": {},
     "output_type": "execute_result"
    }
   ],
   "source": [
    "sales_stores_merged.shape"
   ]
  },
  {
   "cell_type": "code",
   "execution_count": 15,
   "metadata": {
    "id": "UpNKA6bpkqRW"
   },
   "outputs": [],
   "source": [
    "# Add a flag for promotion activity\n",
    "sales_stores_merged['PROMOTION_ACTIVE'] = 0"
   ]
  },
  {
   "cell_type": "code",
   "execution_count": 16,
   "metadata": {
    "id": "cjAkBXyikqO0"
   },
   "outputs": [],
   "source": [
    "# Function to merge sales and store data with promotions data and add promotion flags\n",
    "def merge_promotions_with_flags(sales_stores_df, promo_df):\n",
    "    for idx, promo in promo_df.iterrows():\n",
    "        start_date = promo['PROMOTION_START_DATE']\n",
    "        end_date = promo['PROMOTION_END_DATE']\n",
    "\n",
    "        # Apply promotions to the sales data that falls within the promotion date range\n",
    "        mask = (sales_stores_df['BUSINESS_DATE'] >= start_date) & (sales_stores_df['BUSINESS_DATE'] <= end_date)\n",
    "        sales_stores_df.loc[mask, 'PROMOTION_ACTIVE'] = 1\n",
    "\n",
    "        # Add promotion details to the filtered sales_stores data\n",
    "        for col in promo_df.columns:\n",
    "            if col not in sales_stores_df.columns:\n",
    "                sales_stores_df[col] = None\n",
    "            sales_stores_df.loc[mask, col] = promo[col]\n",
    "\n",
    "    return sales_stores_df"
   ]
  },
  {
   "cell_type": "code",
   "execution_count": 17,
   "metadata": {
    "id": "1iZWbnnOkqMU"
   },
   "outputs": [],
   "source": [
    "# Apply merging function\n",
    "final_merged_data = merge_promotions_with_flags(sales_stores_merged, promotions_data)"
   ]
  },
  {
   "cell_type": "code",
   "execution_count": 18,
   "metadata": {
    "colab": {
     "base_uri": "https://localhost:8080/"
    },
    "id": "Rm-rSHC5kqJ0",
    "outputId": "1a075487-8ed3-4b16-d6e9-72a3a2102c11"
   },
   "outputs": [
    {
     "name": "stdout",
     "output_type": "stream",
     "text": [
      "Final Merged Data with Promotions and Flags:\n",
      "   STORE_KEY  STORE_NUMBER   OPEN_DATE  BUSINESS_DATE_KEY BUSINESS_DATE  \\\n",
      "0       2104          1323  11/21/2017           20221008    2022-10-08   \n",
      "1       2104          1323  11/21/2017           20221210    2022-12-10   \n",
      "2       2104          1323  11/21/2017           20230106    2023-01-06   \n",
      "3       2104          1323  11/21/2017           20220904    2022-09-04   \n",
      "4       2104          1323  11/21/2017           20230322    2023-03-22   \n",
      "\n",
      "   TEMP_CLOSE_INDICATOR  PROJECTION_INCLUDED_INDICATOR  \\\n",
      "0                   0.0                              0   \n",
      "1                   0.0                              0   \n",
      "2                   0.0                              0   \n",
      "3                   0.0                              0   \n",
      "4                   0.0                              0   \n",
      "\n",
      "   BUSINESS_DATE_FISCAL_DAY_OF_YEAR  BUSINESS_DATE_FISCAL_YEAR  \\\n",
      "0                               287                       2022   \n",
      "1                               350                       2022   \n",
      "2                                 6                       2023   \n",
      "3                               253                       2022   \n",
      "4                                81                       2023   \n",
      "\n",
      "   COMP_BUSINESS_DATE_FISCAL_YEAR  ...  PROMOTION_OFFER  PROMOTION_ITEM  \\\n",
      "0                            2021  ...             None            None   \n",
      "1                            2021  ...             None            None   \n",
      "2                            2022  ...             None            None   \n",
      "3                            2021  ...             None            None   \n",
      "4                            2022  ...             None            None   \n",
      "\n",
      "   PROMOTION_CASH_AMOUNT  PROMOTION_PERCENTAGE  PLATFORM  FREQUENCY  \\\n",
      "0                   None                  None      None       None   \n",
      "1                   None                  None      None       None   \n",
      "2                   None                  None      None       None   \n",
      "3                   None                  None      None       None   \n",
      "4                   None                  None      None       None   \n",
      "\n",
      "  PROMOTION_DAY_OF_WEEK PROMOTION_CHANNEL PROMOTION_COVERAGE REGIONAL_COVERAGE  \n",
      "0                  None              None               None              None  \n",
      "1                  None              None               None              None  \n",
      "2                  None              None               None              None  \n",
      "3                  None              None               None              None  \n",
      "4                  None              None               None              None  \n",
      "\n",
      "[5 rows x 29 columns]\n"
     ]
    }
   ],
   "source": [
    "# Display the final merged data with promotion flags\n",
    "print(\"Final Merged Data with Promotions and Flags:\")\n",
    "print(final_merged_data.head())"
   ]
  },
  {
   "cell_type": "code",
   "execution_count": 19,
   "metadata": {
    "colab": {
     "base_uri": "https://localhost:8080/"
    },
    "id": "CPtTGfUlkqHH",
    "outputId": "437b13c1-c8e7-4a24-f341-b108c3720f56"
   },
   "outputs": [
    {
     "data": {
      "text/plain": [
       "(364204, 29)"
      ]
     },
     "execution_count": 19,
     "metadata": {},
     "output_type": "execute_result"
    }
   ],
   "source": [
    "final_merged_data.shape"
   ]
  },
  {
   "cell_type": "code",
   "execution_count": 20,
   "metadata": {
    "colab": {
     "base_uri": "https://localhost:8080/",
     "height": 256
    },
    "id": "W0skROQMkqEg",
    "outputId": "1e9c3cc8-5a21-4b77-f875-f167d5165024"
   },
   "outputs": [
    {
     "data": {
      "text/html": [
       "<div>\n",
       "<style scoped>\n",
       "    .dataframe tbody tr th:only-of-type {\n",
       "        vertical-align: middle;\n",
       "    }\n",
       "\n",
       "    .dataframe tbody tr th {\n",
       "        vertical-align: top;\n",
       "    }\n",
       "\n",
       "    .dataframe thead th {\n",
       "        text-align: right;\n",
       "    }\n",
       "</style>\n",
       "<table border=\"1\" class=\"dataframe\">\n",
       "  <thead>\n",
       "    <tr style=\"text-align: right;\">\n",
       "      <th></th>\n",
       "      <th>STORE_KEY</th>\n",
       "      <th>STORE_NUMBER</th>\n",
       "      <th>OPEN_DATE</th>\n",
       "      <th>BUSINESS_DATE_KEY</th>\n",
       "      <th>BUSINESS_DATE</th>\n",
       "      <th>TEMP_CLOSE_INDICATOR</th>\n",
       "      <th>PROJECTION_INCLUDED_INDICATOR</th>\n",
       "      <th>BUSINESS_DATE_FISCAL_DAY_OF_YEAR</th>\n",
       "      <th>BUSINESS_DATE_FISCAL_YEAR</th>\n",
       "      <th>COMP_BUSINESS_DATE_FISCAL_YEAR</th>\n",
       "      <th>...</th>\n",
       "      <th>PROMOTION_OFFER</th>\n",
       "      <th>PROMOTION_ITEM</th>\n",
       "      <th>PROMOTION_CASH_AMOUNT</th>\n",
       "      <th>PROMOTION_PERCENTAGE</th>\n",
       "      <th>PLATFORM</th>\n",
       "      <th>FREQUENCY</th>\n",
       "      <th>PROMOTION_DAY_OF_WEEK</th>\n",
       "      <th>PROMOTION_CHANNEL</th>\n",
       "      <th>PROMOTION_COVERAGE</th>\n",
       "      <th>REGIONAL_COVERAGE</th>\n",
       "    </tr>\n",
       "  </thead>\n",
       "  <tbody>\n",
       "    <tr>\n",
       "      <th>0</th>\n",
       "      <td>2104</td>\n",
       "      <td>1323</td>\n",
       "      <td>11/21/2017</td>\n",
       "      <td>20221008</td>\n",
       "      <td>2022-10-08</td>\n",
       "      <td>0.0</td>\n",
       "      <td>0</td>\n",
       "      <td>287</td>\n",
       "      <td>2022</td>\n",
       "      <td>2021</td>\n",
       "      <td>...</td>\n",
       "      <td>None</td>\n",
       "      <td>None</td>\n",
       "      <td>None</td>\n",
       "      <td>None</td>\n",
       "      <td>None</td>\n",
       "      <td>None</td>\n",
       "      <td>None</td>\n",
       "      <td>None</td>\n",
       "      <td>None</td>\n",
       "      <td>None</td>\n",
       "    </tr>\n",
       "    <tr>\n",
       "      <th>1</th>\n",
       "      <td>2104</td>\n",
       "      <td>1323</td>\n",
       "      <td>11/21/2017</td>\n",
       "      <td>20221210</td>\n",
       "      <td>2022-12-10</td>\n",
       "      <td>0.0</td>\n",
       "      <td>0</td>\n",
       "      <td>350</td>\n",
       "      <td>2022</td>\n",
       "      <td>2021</td>\n",
       "      <td>...</td>\n",
       "      <td>None</td>\n",
       "      <td>None</td>\n",
       "      <td>None</td>\n",
       "      <td>None</td>\n",
       "      <td>None</td>\n",
       "      <td>None</td>\n",
       "      <td>None</td>\n",
       "      <td>None</td>\n",
       "      <td>None</td>\n",
       "      <td>None</td>\n",
       "    </tr>\n",
       "    <tr>\n",
       "      <th>2</th>\n",
       "      <td>2104</td>\n",
       "      <td>1323</td>\n",
       "      <td>11/21/2017</td>\n",
       "      <td>20230106</td>\n",
       "      <td>2023-01-06</td>\n",
       "      <td>0.0</td>\n",
       "      <td>0</td>\n",
       "      <td>6</td>\n",
       "      <td>2023</td>\n",
       "      <td>2022</td>\n",
       "      <td>...</td>\n",
       "      <td>None</td>\n",
       "      <td>None</td>\n",
       "      <td>None</td>\n",
       "      <td>None</td>\n",
       "      <td>None</td>\n",
       "      <td>None</td>\n",
       "      <td>None</td>\n",
       "      <td>None</td>\n",
       "      <td>None</td>\n",
       "      <td>None</td>\n",
       "    </tr>\n",
       "    <tr>\n",
       "      <th>3</th>\n",
       "      <td>2104</td>\n",
       "      <td>1323</td>\n",
       "      <td>11/21/2017</td>\n",
       "      <td>20220904</td>\n",
       "      <td>2022-09-04</td>\n",
       "      <td>0.0</td>\n",
       "      <td>0</td>\n",
       "      <td>253</td>\n",
       "      <td>2022</td>\n",
       "      <td>2021</td>\n",
       "      <td>...</td>\n",
       "      <td>None</td>\n",
       "      <td>None</td>\n",
       "      <td>None</td>\n",
       "      <td>None</td>\n",
       "      <td>None</td>\n",
       "      <td>None</td>\n",
       "      <td>None</td>\n",
       "      <td>None</td>\n",
       "      <td>None</td>\n",
       "      <td>None</td>\n",
       "    </tr>\n",
       "    <tr>\n",
       "      <th>4</th>\n",
       "      <td>2104</td>\n",
       "      <td>1323</td>\n",
       "      <td>11/21/2017</td>\n",
       "      <td>20230322</td>\n",
       "      <td>2023-03-22</td>\n",
       "      <td>0.0</td>\n",
       "      <td>0</td>\n",
       "      <td>81</td>\n",
       "      <td>2023</td>\n",
       "      <td>2022</td>\n",
       "      <td>...</td>\n",
       "      <td>None</td>\n",
       "      <td>None</td>\n",
       "      <td>None</td>\n",
       "      <td>None</td>\n",
       "      <td>None</td>\n",
       "      <td>None</td>\n",
       "      <td>None</td>\n",
       "      <td>None</td>\n",
       "      <td>None</td>\n",
       "      <td>None</td>\n",
       "    </tr>\n",
       "  </tbody>\n",
       "</table>\n",
       "<p>5 rows × 29 columns</p>\n",
       "</div>"
      ],
      "text/plain": [
       "   STORE_KEY  STORE_NUMBER   OPEN_DATE  BUSINESS_DATE_KEY BUSINESS_DATE  \\\n",
       "0       2104          1323  11/21/2017           20221008    2022-10-08   \n",
       "1       2104          1323  11/21/2017           20221210    2022-12-10   \n",
       "2       2104          1323  11/21/2017           20230106    2023-01-06   \n",
       "3       2104          1323  11/21/2017           20220904    2022-09-04   \n",
       "4       2104          1323  11/21/2017           20230322    2023-03-22   \n",
       "\n",
       "   TEMP_CLOSE_INDICATOR  PROJECTION_INCLUDED_INDICATOR  \\\n",
       "0                   0.0                              0   \n",
       "1                   0.0                              0   \n",
       "2                   0.0                              0   \n",
       "3                   0.0                              0   \n",
       "4                   0.0                              0   \n",
       "\n",
       "   BUSINESS_DATE_FISCAL_DAY_OF_YEAR  BUSINESS_DATE_FISCAL_YEAR  \\\n",
       "0                               287                       2022   \n",
       "1                               350                       2022   \n",
       "2                                 6                       2023   \n",
       "3                               253                       2022   \n",
       "4                                81                       2023   \n",
       "\n",
       "   COMP_BUSINESS_DATE_FISCAL_YEAR  ...  PROMOTION_OFFER  PROMOTION_ITEM  \\\n",
       "0                            2021  ...             None            None   \n",
       "1                            2021  ...             None            None   \n",
       "2                            2022  ...             None            None   \n",
       "3                            2021  ...             None            None   \n",
       "4                            2022  ...             None            None   \n",
       "\n",
       "   PROMOTION_CASH_AMOUNT  PROMOTION_PERCENTAGE  PLATFORM  FREQUENCY  \\\n",
       "0                   None                  None      None       None   \n",
       "1                   None                  None      None       None   \n",
       "2                   None                  None      None       None   \n",
       "3                   None                  None      None       None   \n",
       "4                   None                  None      None       None   \n",
       "\n",
       "  PROMOTION_DAY_OF_WEEK PROMOTION_CHANNEL PROMOTION_COVERAGE REGIONAL_COVERAGE  \n",
       "0                  None              None               None              None  \n",
       "1                  None              None               None              None  \n",
       "2                  None              None               None              None  \n",
       "3                  None              None               None              None  \n",
       "4                  None              None               None              None  \n",
       "\n",
       "[5 rows x 29 columns]"
      ]
     },
     "execution_count": 20,
     "metadata": {},
     "output_type": "execute_result"
    }
   ],
   "source": [
    "final_merged_data.head()"
   ]
  },
  {
   "cell_type": "code",
   "execution_count": 21,
   "metadata": {
    "colab": {
     "base_uri": "https://localhost:8080/"
    },
    "id": "-RzKQkEdkqBV",
    "outputId": "5a4fa720-60b3-4a51-aae8-e7e72914f880"
   },
   "outputs": [
    {
     "data": {
      "text/plain": [
       "(364204, 29)"
      ]
     },
     "execution_count": 21,
     "metadata": {},
     "output_type": "execute_result"
    }
   ],
   "source": [
    "final_merged_data.shape"
   ]
  },
  {
   "cell_type": "code",
   "execution_count": 22,
   "metadata": {
    "id": "IBl3GwCKlLgU"
   },
   "outputs": [],
   "source": [
    "# Reset the index and drop the old index\n",
    "final_merged_data_clean = final_merged_data.reset_index(drop=True)"
   ]
  },
  {
   "cell_type": "code",
   "execution_count": 23,
   "metadata": {
    "colab": {
     "base_uri": "https://localhost:8080/",
     "height": 256
    },
    "id": "SnW1ya9flLd3",
    "outputId": "b729c3e4-3273-4395-b121-748df60a830c"
   },
   "outputs": [
    {
     "data": {
      "text/html": [
       "<div>\n",
       "<style scoped>\n",
       "    .dataframe tbody tr th:only-of-type {\n",
       "        vertical-align: middle;\n",
       "    }\n",
       "\n",
       "    .dataframe tbody tr th {\n",
       "        vertical-align: top;\n",
       "    }\n",
       "\n",
       "    .dataframe thead th {\n",
       "        text-align: right;\n",
       "    }\n",
       "</style>\n",
       "<table border=\"1\" class=\"dataframe\">\n",
       "  <thead>\n",
       "    <tr style=\"text-align: right;\">\n",
       "      <th></th>\n",
       "      <th>STORE_KEY</th>\n",
       "      <th>STORE_NUMBER</th>\n",
       "      <th>OPEN_DATE</th>\n",
       "      <th>BUSINESS_DATE_KEY</th>\n",
       "      <th>BUSINESS_DATE</th>\n",
       "      <th>TEMP_CLOSE_INDICATOR</th>\n",
       "      <th>PROJECTION_INCLUDED_INDICATOR</th>\n",
       "      <th>BUSINESS_DATE_FISCAL_DAY_OF_YEAR</th>\n",
       "      <th>BUSINESS_DATE_FISCAL_YEAR</th>\n",
       "      <th>COMP_BUSINESS_DATE_FISCAL_YEAR</th>\n",
       "      <th>...</th>\n",
       "      <th>PROMOTION_OFFER</th>\n",
       "      <th>PROMOTION_ITEM</th>\n",
       "      <th>PROMOTION_CASH_AMOUNT</th>\n",
       "      <th>PROMOTION_PERCENTAGE</th>\n",
       "      <th>PLATFORM</th>\n",
       "      <th>FREQUENCY</th>\n",
       "      <th>PROMOTION_DAY_OF_WEEK</th>\n",
       "      <th>PROMOTION_CHANNEL</th>\n",
       "      <th>PROMOTION_COVERAGE</th>\n",
       "      <th>REGIONAL_COVERAGE</th>\n",
       "    </tr>\n",
       "  </thead>\n",
       "  <tbody>\n",
       "    <tr>\n",
       "      <th>0</th>\n",
       "      <td>2104</td>\n",
       "      <td>1323</td>\n",
       "      <td>11/21/2017</td>\n",
       "      <td>20221008</td>\n",
       "      <td>2022-10-08</td>\n",
       "      <td>0.0</td>\n",
       "      <td>0</td>\n",
       "      <td>287</td>\n",
       "      <td>2022</td>\n",
       "      <td>2021</td>\n",
       "      <td>...</td>\n",
       "      <td>None</td>\n",
       "      <td>None</td>\n",
       "      <td>None</td>\n",
       "      <td>None</td>\n",
       "      <td>None</td>\n",
       "      <td>None</td>\n",
       "      <td>None</td>\n",
       "      <td>None</td>\n",
       "      <td>None</td>\n",
       "      <td>None</td>\n",
       "    </tr>\n",
       "    <tr>\n",
       "      <th>1</th>\n",
       "      <td>2104</td>\n",
       "      <td>1323</td>\n",
       "      <td>11/21/2017</td>\n",
       "      <td>20221210</td>\n",
       "      <td>2022-12-10</td>\n",
       "      <td>0.0</td>\n",
       "      <td>0</td>\n",
       "      <td>350</td>\n",
       "      <td>2022</td>\n",
       "      <td>2021</td>\n",
       "      <td>...</td>\n",
       "      <td>None</td>\n",
       "      <td>None</td>\n",
       "      <td>None</td>\n",
       "      <td>None</td>\n",
       "      <td>None</td>\n",
       "      <td>None</td>\n",
       "      <td>None</td>\n",
       "      <td>None</td>\n",
       "      <td>None</td>\n",
       "      <td>None</td>\n",
       "    </tr>\n",
       "    <tr>\n",
       "      <th>2</th>\n",
       "      <td>2104</td>\n",
       "      <td>1323</td>\n",
       "      <td>11/21/2017</td>\n",
       "      <td>20230106</td>\n",
       "      <td>2023-01-06</td>\n",
       "      <td>0.0</td>\n",
       "      <td>0</td>\n",
       "      <td>6</td>\n",
       "      <td>2023</td>\n",
       "      <td>2022</td>\n",
       "      <td>...</td>\n",
       "      <td>None</td>\n",
       "      <td>None</td>\n",
       "      <td>None</td>\n",
       "      <td>None</td>\n",
       "      <td>None</td>\n",
       "      <td>None</td>\n",
       "      <td>None</td>\n",
       "      <td>None</td>\n",
       "      <td>None</td>\n",
       "      <td>None</td>\n",
       "    </tr>\n",
       "    <tr>\n",
       "      <th>3</th>\n",
       "      <td>2104</td>\n",
       "      <td>1323</td>\n",
       "      <td>11/21/2017</td>\n",
       "      <td>20220904</td>\n",
       "      <td>2022-09-04</td>\n",
       "      <td>0.0</td>\n",
       "      <td>0</td>\n",
       "      <td>253</td>\n",
       "      <td>2022</td>\n",
       "      <td>2021</td>\n",
       "      <td>...</td>\n",
       "      <td>None</td>\n",
       "      <td>None</td>\n",
       "      <td>None</td>\n",
       "      <td>None</td>\n",
       "      <td>None</td>\n",
       "      <td>None</td>\n",
       "      <td>None</td>\n",
       "      <td>None</td>\n",
       "      <td>None</td>\n",
       "      <td>None</td>\n",
       "    </tr>\n",
       "    <tr>\n",
       "      <th>4</th>\n",
       "      <td>2104</td>\n",
       "      <td>1323</td>\n",
       "      <td>11/21/2017</td>\n",
       "      <td>20230322</td>\n",
       "      <td>2023-03-22</td>\n",
       "      <td>0.0</td>\n",
       "      <td>0</td>\n",
       "      <td>81</td>\n",
       "      <td>2023</td>\n",
       "      <td>2022</td>\n",
       "      <td>...</td>\n",
       "      <td>None</td>\n",
       "      <td>None</td>\n",
       "      <td>None</td>\n",
       "      <td>None</td>\n",
       "      <td>None</td>\n",
       "      <td>None</td>\n",
       "      <td>None</td>\n",
       "      <td>None</td>\n",
       "      <td>None</td>\n",
       "      <td>None</td>\n",
       "    </tr>\n",
       "  </tbody>\n",
       "</table>\n",
       "<p>5 rows × 29 columns</p>\n",
       "</div>"
      ],
      "text/plain": [
       "   STORE_KEY  STORE_NUMBER   OPEN_DATE  BUSINESS_DATE_KEY BUSINESS_DATE  \\\n",
       "0       2104          1323  11/21/2017           20221008    2022-10-08   \n",
       "1       2104          1323  11/21/2017           20221210    2022-12-10   \n",
       "2       2104          1323  11/21/2017           20230106    2023-01-06   \n",
       "3       2104          1323  11/21/2017           20220904    2022-09-04   \n",
       "4       2104          1323  11/21/2017           20230322    2023-03-22   \n",
       "\n",
       "   TEMP_CLOSE_INDICATOR  PROJECTION_INCLUDED_INDICATOR  \\\n",
       "0                   0.0                              0   \n",
       "1                   0.0                              0   \n",
       "2                   0.0                              0   \n",
       "3                   0.0                              0   \n",
       "4                   0.0                              0   \n",
       "\n",
       "   BUSINESS_DATE_FISCAL_DAY_OF_YEAR  BUSINESS_DATE_FISCAL_YEAR  \\\n",
       "0                               287                       2022   \n",
       "1                               350                       2022   \n",
       "2                                 6                       2023   \n",
       "3                               253                       2022   \n",
       "4                                81                       2023   \n",
       "\n",
       "   COMP_BUSINESS_DATE_FISCAL_YEAR  ...  PROMOTION_OFFER  PROMOTION_ITEM  \\\n",
       "0                            2021  ...             None            None   \n",
       "1                            2021  ...             None            None   \n",
       "2                            2022  ...             None            None   \n",
       "3                            2021  ...             None            None   \n",
       "4                            2022  ...             None            None   \n",
       "\n",
       "   PROMOTION_CASH_AMOUNT  PROMOTION_PERCENTAGE  PLATFORM  FREQUENCY  \\\n",
       "0                   None                  None      None       None   \n",
       "1                   None                  None      None       None   \n",
       "2                   None                  None      None       None   \n",
       "3                   None                  None      None       None   \n",
       "4                   None                  None      None       None   \n",
       "\n",
       "  PROMOTION_DAY_OF_WEEK PROMOTION_CHANNEL PROMOTION_COVERAGE REGIONAL_COVERAGE  \n",
       "0                  None              None               None              None  \n",
       "1                  None              None               None              None  \n",
       "2                  None              None               None              None  \n",
       "3                  None              None               None              None  \n",
       "4                  None              None               None              None  \n",
       "\n",
       "[5 rows x 29 columns]"
      ]
     },
     "execution_count": 23,
     "metadata": {},
     "output_type": "execute_result"
    }
   ],
   "source": [
    "final_merged_data_clean.head()"
   ]
  },
  {
   "cell_type": "code",
   "execution_count": 24,
   "metadata": {
    "colab": {
     "base_uri": "https://localhost:8080/"
    },
    "id": "Bp2PyHSvlLYb",
    "outputId": "00a6a97c-9be9-4e2b-e0aa-b5987e60788f"
   },
   "outputs": [
    {
     "data": {
      "text/plain": [
       "(364204, 29)"
      ]
     },
     "execution_count": 24,
     "metadata": {},
     "output_type": "execute_result"
    }
   ],
   "source": [
    "final_merged_data_clean.shape"
   ]
  },
  {
   "cell_type": "code",
   "execution_count": 25,
   "metadata": {
    "colab": {
     "base_uri": "https://localhost:8080/"
    },
    "id": "pyhOXPPrlLWL",
    "outputId": "52347af1-d36f-4857-8325-b185625b5e38"
   },
   "outputs": [
    {
     "name": "stdout",
     "output_type": "stream",
     "text": [
      "Requirement already satisfied: lazypredict in c:\\users\\jioinstitute\\anaconda3\\lib\\site-packages (0.2.12)\n",
      "Requirement already satisfied: click in c:\\users\\jioinstitute\\anaconda3\\lib\\site-packages (from lazypredict) (8.0.4)\n",
      "Requirement already satisfied: scikit-learn in c:\\users\\jioinstitute\\anaconda3\\lib\\site-packages (from lazypredict) (1.3.0)\n",
      "Requirement already satisfied: pandas in c:\\users\\jioinstitute\\anaconda3\\lib\\site-packages (from lazypredict) (2.0.3)\n",
      "Requirement already satisfied: tqdm in c:\\users\\jioinstitute\\anaconda3\\lib\\site-packages (from lazypredict) (4.65.0)\n",
      "Requirement already satisfied: joblib in c:\\users\\jioinstitute\\anaconda3\\lib\\site-packages (from lazypredict) (1.2.0)\n",
      "Requirement already satisfied: lightgbm in c:\\users\\jioinstitute\\anaconda3\\lib\\site-packages (from lazypredict) (4.5.0)\n",
      "Requirement already satisfied: xgboost in c:\\users\\jioinstitute\\anaconda3\\lib\\site-packages (from lazypredict) (2.1.0)\n",
      "Requirement already satisfied: colorama in c:\\users\\jioinstitute\\anaconda3\\lib\\site-packages (from click->lazypredict) (0.4.6)\n",
      "Requirement already satisfied: numpy>=1.17.0 in c:\\users\\jioinstitute\\anaconda3\\lib\\site-packages (from lightgbm->lazypredict) (1.24.3)\n",
      "Requirement already satisfied: scipy in c:\\users\\jioinstitute\\anaconda3\\lib\\site-packages (from lightgbm->lazypredict) (1.11.1)\n",
      "Requirement already satisfied: python-dateutil>=2.8.2 in c:\\users\\jioinstitute\\anaconda3\\lib\\site-packages (from pandas->lazypredict) (2.8.2)\n",
      "Requirement already satisfied: pytz>=2020.1 in c:\\users\\jioinstitute\\anaconda3\\lib\\site-packages (from pandas->lazypredict) (2023.3.post1)\n",
      "Requirement already satisfied: tzdata>=2022.1 in c:\\users\\jioinstitute\\anaconda3\\lib\\site-packages (from pandas->lazypredict) (2023.3)\n",
      "Requirement already satisfied: threadpoolctl>=2.0.0 in c:\\users\\jioinstitute\\anaconda3\\lib\\site-packages (from scikit-learn->lazypredict) (2.2.0)\n",
      "Requirement already satisfied: six>=1.5 in c:\\users\\jioinstitute\\anaconda3\\lib\\site-packages (from python-dateutil>=2.8.2->pandas->lazypredict) (1.16.0)\n"
     ]
    }
   ],
   "source": [
    "!pip install lazypredict\n"
   ]
  },
  {
   "cell_type": "code",
   "execution_count": 26,
   "metadata": {
    "colab": {
     "base_uri": "https://localhost:8080/"
    },
    "id": "6joS5SadlLQa",
    "outputId": "9ad1d21a-0bd4-4c30-97a8-74c7bbfb2dcb"
   },
   "outputs": [
    {
     "name": "stderr",
     "output_type": "stream",
     "text": [
      "100%|██████████████████████████████████████████████████████████████████████████████████| 42/42 [08:45<00:00, 12.51s/it]"
     ]
    },
    {
     "name": "stdout",
     "output_type": "stream",
     "text": [
      "[LightGBM] [Info] Auto-choosing row-wise multi-threading, the overhead of testing was 0.000878 seconds.\n",
      "You can set `force_row_wise=true` to remove the overhead.\n",
      "And if memory is not enough, you can set `force_col_wise=true`.\n",
      "[LightGBM] [Info] Total Bins 1782\n",
      "[LightGBM] [Info] Number of data points in the train set: 28800, number of used features: 12\n",
      "[LightGBM] [Info] Start training from score 4390.826015\n",
      "                               Adjusted R-Squared           R-Squared  \\\n",
      "Model                                                                   \n",
      "XGBRegressor                                 0.97                0.97   \n",
      "LGBMRegressor                                0.96                0.96   \n",
      "HistGradientBoostingRegressor                0.96                0.96   \n",
      "RandomForestRegressor                        0.95                0.95   \n",
      "ExtraTreesRegressor                          0.95                0.95   \n",
      "MLPRegressor                                 0.95                0.95   \n",
      "BaggingRegressor                             0.95                0.95   \n",
      "GradientBoostingRegressor                    0.95                0.95   \n",
      "LinearRegression                             0.95                0.95   \n",
      "TransformedTargetRegressor                   0.95                0.95   \n",
      "BayesianRidge                                0.95                0.95   \n",
      "RidgeCV                                      0.95                0.95   \n",
      "Ridge                                        0.95                0.95   \n",
      "Lasso                                        0.95                0.95   \n",
      "OrthogonalMatchingPursuitCV                  0.95                0.95   \n",
      "LassoCV                                      0.95                0.95   \n",
      "HuberRegressor                               0.95                0.95   \n",
      "LarsCV                                       0.95                0.95   \n",
      "PassiveAggressiveRegressor                   0.94                0.94   \n",
      "KNeighborsRegressor                          0.94                0.94   \n",
      "LinearSVR                                    0.93                0.93   \n",
      "LassoLarsCV                                  0.92                0.92   \n",
      "LassoLarsIC                                  0.92                0.92   \n",
      "LassoLars                                    0.92                0.92   \n",
      "DecisionTreeRegressor                        0.91                0.91   \n",
      "ExtraTreeRegressor                           0.90                0.90   \n",
      "OrthogonalMatchingPursuit                    0.90                0.90   \n",
      "AdaBoostRegressor                            0.87                0.88   \n",
      "ElasticNet                                   0.84                0.84   \n",
      "Lars                                         0.82                0.82   \n",
      "PoissonRegressor                             0.81                0.81   \n",
      "TweedieRegressor                             0.75                0.75   \n",
      "RANSACRegressor                              0.71                0.71   \n",
      "ElasticNetCV                                 0.60                0.60   \n",
      "SVR                                          0.52                0.52   \n",
      "NuSVR                                        0.48                0.48   \n",
      "DummyRegressor                              -0.01               -0.00   \n",
      "KernelRidge                                 -2.62               -2.60   \n",
      "GaussianProcessRegressor                 -1601.68            -1591.22   \n",
      "SGDRegressor                  -630184829543294.38 -626070551589615.38   \n",
      "\n",
      "                                        RMSE  Time Taken  \n",
      "Model                                                     \n",
      "XGBRegressor                          408.99        0.19  \n",
      "LGBMRegressor                         438.20        0.19  \n",
      "HistGradientBoostingRegressor         441.49        0.82  \n",
      "RandomForestRegressor                 495.75       40.68  \n",
      "ExtraTreesRegressor                   507.46       14.88  \n",
      "MLPRegressor                          511.50       15.08  \n",
      "BaggingRegressor                      515.97        3.48  \n",
      "GradientBoostingRegressor             529.35        4.39  \n",
      "LinearRegression                      542.15        0.02  \n",
      "TransformedTargetRegressor            542.15        0.03  \n",
      "BayesianRidge                         542.16        0.13  \n",
      "RidgeCV                               542.17        0.07  \n",
      "Ridge                                 542.17        0.02  \n",
      "Lasso                                 542.93        0.08  \n",
      "OrthogonalMatchingPursuitCV           542.94        0.08  \n",
      "LassoCV                               543.56        0.26  \n",
      "HuberRegressor                        544.19        0.21  \n",
      "LarsCV                                545.34        0.14  \n",
      "PassiveAggressiveRegressor            550.42        0.07  \n",
      "KNeighborsRegressor                   586.85        0.83  \n",
      "LinearSVR                             613.72        0.06  \n",
      "LassoLarsCV                           654.08        0.06  \n",
      "LassoLarsIC                           654.08        0.04  \n",
      "LassoLars                             654.08        0.03  \n",
      "DecisionTreeRegressor                 704.28        0.49  \n",
      "ExtraTreeRegressor                    726.03        0.20  \n",
      "OrthogonalMatchingPursuit             742.50        0.03  \n",
      "AdaBoostRegressor                     823.93        1.34  \n",
      "ElasticNet                            927.98        0.03  \n",
      "Lars                                  992.19        0.03  \n",
      "PoissonRegressor                     1025.30        0.05  \n",
      "TweedieRegressor                     1156.61        0.04  \n",
      "RANSACRegressor                      1252.48        0.06  \n",
      "ElasticNetCV                         1470.03        0.21  \n",
      "SVR                                  1611.04       56.17  \n",
      "NuSVR                                1678.08       60.10  \n",
      "DummyRegressor                       2335.75        0.03  \n",
      "KernelRidge                          4430.75      104.05  \n",
      "GaussianProcessRegressor            93202.36      220.58  \n",
      "SGDRegressor                  58443609995.50        0.05  \n"
     ]
    },
    {
     "name": "stderr",
     "output_type": "stream",
     "text": [
      "\n"
     ]
    }
   ],
   "source": [
    "import pandas as pd\n",
    "import numpy as np\n",
    "from sklearn.model_selection import train_test_split\n",
    "from lazypredict.Supervised import LazyClassifier, LazyRegressor\n",
    "\n",
    "# Load your dataset\n",
    "df = final_merged_data_clean.sample(n=36000, random_state=42) # Adjust path accordingly\n",
    "\n",
    "# Convert date fields to datetime type if not already\n",
    "df['OPEN_DATE'] = pd.to_datetime(df['OPEN_DATE'])\n",
    "df['BUSINESS_DATE'] = pd.to_datetime(df['BUSINESS_DATE'])\n",
    "\n",
    "# Handling missing values\n",
    "# Assuming 'None' values are strings, replace them with numpy's nan\n",
    "df.replace('None', np.nan, inplace=True)\n",
    "\n",
    "# Drop columns with too many missing values or fill missing values\n",
    "df.dropna(axis=1, how='all', inplace=True)  # Drop columns where all values are nan\n",
    "\n",
    "# Calculate the mean only for numeric columns\n",
    "numeric_cols = df.select_dtypes(include=np.number).columns\n",
    "df[numeric_cols] = df[numeric_cols].fillna(df[numeric_cols].mean())\n",
    "\n",
    "# Encode categorical variables using one-hot encoding\n",
    "df = pd.get_dummies(df, drop_first=True)\n",
    "\n",
    "# Splitting the dataset into training and testing sets\n",
    "X = df.drop('NET_SALES_FINAL_USD_AMOUNT', axis=1)  # Feature matrix\n",
    "y = df['NET_SALES_FINAL_USD_AMOUNT']  # Target variable\n",
    "\n",
    "X_train, X_test, y_train, y_test = train_test_split(X, y, test_size=0.2, random_state=42)\n",
    "\n",
    "# Using LazyPredict to find the best model\n",
    "# Choose LazyRegressor or LazyClassifier based on your target variable type\n",
    "reg = LazyRegressor(verbose=0, ignore_warnings=True, custom_metric=None)\n",
    "models, predictions = reg.fit(X_train, X_test, y_train, y_test)\n",
    "\n",
    "print(models)"
   ]
  },
  {
   "cell_type": "code",
   "execution_count": null,
   "metadata": {},
   "outputs": [],
   "source": []
  },
  {
   "cell_type": "code",
   "execution_count": 35,
   "metadata": {},
   "outputs": [
    {
     "name": "stdout",
     "output_type": "stream",
     "text": [
      "{'% Error': '8.57%', 'Absolute Error': 376.9835957260238, 'MSE': 282768.2510475592, 'RMSE': 531.7595801182704, 'R²': 0.9468555502814364, 'Adjusted R²': 0.9464763719188669, 'Median Absolute Error': 279.8396875000001}\n"
     ]
    }
   ],
   "source": [
    "import pandas as pd\n",
    "import numpy as np\n",
    "from sklearn.model_selection import train_test_split\n",
    "from xgboost import XGBRegressor\n",
    "from sklearn.metrics import mean_squared_error, mean_absolute_error, r2_score, median_absolute_error\n",
    "\n",
    "# Assuming final_merged_data_clean is loaded and preprocessed as in your previous steps\n",
    "df = final_merged_data_clean.sample(n=36000, random_state=10)\n",
    "\n",
    "# Convert necessary columns to datetime and handle other preprocessing\n",
    "df['OPEN_DATE'] = pd.to_datetime(df['OPEN_DATE'])\n",
    "df['BUSINESS_DATE'] = pd.to_datetime(df['BUSINESS_DATE'])\n",
    "# Extract year, month, day from datetime columns\n",
    "df['OPEN_DATE_YEAR'] = df['OPEN_DATE'].dt.year\n",
    "df['OPEN_DATE_MONTH'] = df['OPEN_DATE'].dt.month\n",
    "df['OPEN_DATE_DAY'] = df['OPEN_DATE'].dt.day\n",
    "\n",
    "df['BUSINESS_DATE_YEAR'] = df['BUSINESS_DATE'].dt.year\n",
    "df['BUSINESS_DATE_MONTH'] = df['BUSINESS_DATE'].dt.month\n",
    "df['BUSINESS_DATE_DAY'] = df['BUSINESS_DATE'].dt.day\n",
    "\n",
    "# Drop the original datetime columns as they are now redundant\n",
    "df.drop(['OPEN_DATE', 'BUSINESS_DATE'], axis=1, inplace=True)\n",
    "df.replace('None', np.nan, inplace=True)\n",
    "df.dropna(axis=1, how='all', inplace=True)\n",
    "\n",
    "# Fill numeric missing values with mean\n",
    "numeric_cols = df.select_dtypes(include=['number']).columns\n",
    "df[numeric_cols] = df[numeric_cols].fillna(df[numeric_cols].mean())\n",
    "\n",
    "# One-hot encode categorical variables\n",
    "df = pd.get_dummies(df, drop_first=True)\n",
    "\n",
    "# Split data into features and target\n",
    "X = df.drop(['NET_SALES_FINAL_USD_AMOUNT'], axis=1)\n",
    "y = df['NET_SALES_FINAL_USD_AMOUNT']\n",
    "\n",
    "# Split data into training and testing sets\n",
    "X_train, X_test, y_train, y_test = train_test_split(X, y, test_size=0.2, random_state=42)\n",
    "\n",
    "# Initialize and train the XGBRegressor with optimal parameters\n",
    "xgb_model = XGBRegressor(\n",
    "    colsample_bytree=0.3, \n",
    "    learning_rate=0.1, \n",
    "    max_depth=5, \n",
    "    alpha=10, \n",
    "    n_estimators=100\n",
    ")\n",
    "xgb_model.fit(X_train, y_train)\n",
    "\n",
    "# Predict on the test set\n",
    "predictions = xgb_model.predict(X_test)\n",
    "\n",
    "# Calculate metrics\n",
    "mae = mean_absolute_error(y_test, predictions)\n",
    "mse = mean_squared_error(y_test, predictions)\n",
    "rmse = np.sqrt(mse)\n",
    "r2 = r2_score(y_test, predictions)\n",
    "adjusted_r2 = 1 - (1-r2) * (len(y_test) - 1) / (len(y_test) - X_test.shape[1] - 1)\n",
    "median_ae = median_absolute_error(y_test, predictions)\n",
    "\n",
    "# Display results\n",
    "results = {\n",
    "    '% Error': f\"{(mae / y_test.mean()) * 100:.2f}%\",\n",
    "    'Absolute Error': mae,\n",
    "    'MSE': mse,\n",
    "    'RMSE': rmse,\n",
    "    'R²': r2,\n",
    "    'Adjusted R²': adjusted_r2,\n",
    "    'Median Absolute Error': median_ae\n",
    "}\n",
    "print(results)"
   ]
  },
  {
   "cell_type": "code",
   "execution_count": 43,
   "metadata": {},
   "outputs": [
    {
     "name": "stdout",
     "output_type": "stream",
     "text": [
      "Collecting shap\n",
      "  Obtaining dependency information for shap from https://files.pythonhosted.org/packages/82/29/923869e92c74bf07ec2b9a52ad5ac67d4184c873ba33ada7d4584356463a/shap-0.46.0-cp311-cp311-win_amd64.whl.metadata\n",
      "  Downloading shap-0.46.0-cp311-cp311-win_amd64.whl.metadata (25 kB)\n",
      "Requirement already satisfied: numpy in c:\\users\\jioinstitute\\anaconda3\\lib\\site-packages (from shap) (1.24.3)\n",
      "Requirement already satisfied: scipy in c:\\users\\jioinstitute\\anaconda3\\lib\\site-packages (from shap) (1.11.1)\n",
      "Requirement already satisfied: scikit-learn in c:\\users\\jioinstitute\\anaconda3\\lib\\site-packages (from shap) (1.3.0)\n",
      "Requirement already satisfied: pandas in c:\\users\\jioinstitute\\anaconda3\\lib\\site-packages (from shap) (2.0.3)\n",
      "Requirement already satisfied: tqdm>=4.27.0 in c:\\users\\jioinstitute\\anaconda3\\lib\\site-packages (from shap) (4.65.0)\n",
      "Requirement already satisfied: packaging>20.9 in c:\\users\\jioinstitute\\anaconda3\\lib\\site-packages (from shap) (23.1)\n",
      "Collecting slicer==0.0.8 (from shap)\n",
      "  Obtaining dependency information for slicer==0.0.8 from https://files.pythonhosted.org/packages/63/81/9ef641ff4e12cbcca30e54e72fb0951a2ba195d0cda0ba4100e532d929db/slicer-0.0.8-py3-none-any.whl.metadata\n",
      "  Downloading slicer-0.0.8-py3-none-any.whl.metadata (4.0 kB)\n",
      "Requirement already satisfied: numba in c:\\users\\jioinstitute\\anaconda3\\lib\\site-packages (from shap) (0.57.1)\n",
      "Requirement already satisfied: cloudpickle in c:\\users\\jioinstitute\\anaconda3\\lib\\site-packages (from shap) (2.2.1)\n",
      "Requirement already satisfied: colorama in c:\\users\\jioinstitute\\anaconda3\\lib\\site-packages (from tqdm>=4.27.0->shap) (0.4.6)\n",
      "Requirement already satisfied: llvmlite<0.41,>=0.40.0dev0 in c:\\users\\jioinstitute\\anaconda3\\lib\\site-packages (from numba->shap) (0.40.0)\n",
      "Requirement already satisfied: python-dateutil>=2.8.2 in c:\\users\\jioinstitute\\anaconda3\\lib\\site-packages (from pandas->shap) (2.8.2)\n",
      "Requirement already satisfied: pytz>=2020.1 in c:\\users\\jioinstitute\\anaconda3\\lib\\site-packages (from pandas->shap) (2023.3.post1)\n",
      "Requirement already satisfied: tzdata>=2022.1 in c:\\users\\jioinstitute\\anaconda3\\lib\\site-packages (from pandas->shap) (2023.3)\n",
      "Requirement already satisfied: joblib>=1.1.1 in c:\\users\\jioinstitute\\anaconda3\\lib\\site-packages (from scikit-learn->shap) (1.2.0)\n",
      "Requirement already satisfied: threadpoolctl>=2.0.0 in c:\\users\\jioinstitute\\anaconda3\\lib\\site-packages (from scikit-learn->shap) (2.2.0)\n",
      "Requirement already satisfied: six>=1.5 in c:\\users\\jioinstitute\\anaconda3\\lib\\site-packages (from python-dateutil>=2.8.2->pandas->shap) (1.16.0)\n",
      "Downloading shap-0.46.0-cp311-cp311-win_amd64.whl (456 kB)\n",
      "   ---------------------------------------- 0.0/456.1 kB ? eta -:--:--\n",
      "   -- ------------------------------------ 30.7/456.1 kB 660.6 kB/s eta 0:00:01\n",
      "   ------------- -------------------------- 153.6/456.1 kB 1.8 MB/s eta 0:00:01\n",
      "   ----------------------------------- ---- 409.6/456.1 kB 3.2 MB/s eta 0:00:01\n",
      "   ---------------------------------------- 456.1/456.1 kB 3.2 MB/s eta 0:00:00\n",
      "Downloading slicer-0.0.8-py3-none-any.whl (15 kB)\n",
      "Installing collected packages: slicer, shap\n",
      "Successfully installed shap-0.46.0 slicer-0.0.8\n"
     ]
    }
   ],
   "source": [
    "! pip install shap"
   ]
  },
  {
   "cell_type": "code",
   "execution_count": 46,
   "metadata": {},
   "outputs": [
    {
     "data": {
      "image/png": "[encoded data removed]",
      "text/plain": [
       "<Figure size 800x950 with 2 Axes>"
      ]
     },
     "metadata": {},
     "output_type": "display_data"
    }
   ],
   "source": [
    "import shap\n",
    "\n",
    "# Convert all data to float to ensure compatibility with SHAP\n",
    "X_train = X_train.apply(pd.to_numeric, errors='coerce').fillna(0).astype(float)\n",
    "X_test = X_test.apply(pd.to_numeric, errors='coerce').fillna(0).astype(float)\n",
    "\n",
    "# Calculate SHAP values for feature importance\n",
    "explainer = shap.Explainer(xgb_model, X_train)\n",
    "shap_values = explainer(X_test)\n",
    "\n",
    "# Plot the SHAP values\n",
    "shap.summary_plot(shap_values, X_test)"
   ]
  },
  {
   "cell_type": "code",
   "execution_count": 48,
   "metadata": {},
   "outputs": [
    {
     "name": "stdout",
     "output_type": "stream",
     "text": [
      "Requirement already satisfied: flask in c:\\users\\jioinstitute\\anaconda3\\lib\\site-packages (2.2.2)\n",
      "Requirement already satisfied: Werkzeug>=2.2.2 in c:\\users\\jioinstitute\\anaconda3\\lib\\site-packages (from flask) (2.2.3)\n",
      "Requirement already satisfied: Jinja2>=3.0 in c:\\users\\jioinstitute\\anaconda3\\lib\\site-packages (from flask) (3.1.2)\n",
      "Requirement already satisfied: itsdangerous>=2.0 in c:\\users\\jioinstitute\\anaconda3\\lib\\site-packages (from flask) (2.0.1)\n",
      "Requirement already satisfied: click>=8.0 in c:\\users\\jioinstitute\\anaconda3\\lib\\site-packages (from flask) (8.0.4)\n",
      "Requirement already satisfied: colorama in c:\\users\\jioinstitute\\anaconda3\\lib\\site-packages (from click>=8.0->flask) (0.4.6)\n",
      "Requirement already satisfied: MarkupSafe>=2.0 in c:\\users\\jioinstitute\\anaconda3\\lib\\site-packages (from Jinja2>=3.0->flask) (2.1.1)\n"
     ]
    }
   ],
   "source": [
    "!pip install flask"
   ]
  },
  {
   "cell_type": "code",
   "execution_count": null,
   "metadata": {},
   "outputs": [],
   "source": []
  },
  {
   "cell_type": "code",
   "execution_count": null,
   "metadata": {},
   "outputs": [],
   "source": []
  },
  {
   "cell_type": "code",
   "execution_count": null,
   "metadata": {},
   "outputs": [],
   "source": []
  }
 ],
 "metadata": {
  "colab": {
   "provenance": []
  },
  "kernelspec": {
   "display_name": "Python 3 (ipykernel)",
   "language": "python",
   "name": "python3"
  },
  "language_info": {
   "codemirror_mode": {
    "name": "ipython",
    "version": 3
   },
   "file_extension": ".py",
   "mimetype": "text/x-python",
   "name": "python",
   "nbconvert_exporter": "python",
   "pygments_lexer": "ipython3",
   "version": "3.11.5"
  }
 },
 "nbformat": 4,
 "nbformat_minor": 1
}
